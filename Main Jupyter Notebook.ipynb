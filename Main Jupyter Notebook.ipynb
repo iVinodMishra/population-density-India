{
 "cells": [
  {
   "cell_type": "code",
   "execution_count": 1,
   "metadata": {
    "collapsed": true
   },
   "outputs": [],
   "source": [
    "import pandas as pd\n",
    "from shapely.geometry import MultiPoint"
   ]
  },
  {
   "cell_type": "code",
   "execution_count": 193,
   "metadata": {},
   "outputs": [],
   "source": [
    "# read the csv file containing borderline longitudes and latitudes for all Indian districts\n",
    "df = pd.read_csv(r\"C:\\Users\\samsu\\Desktop\\delete\\Ind_adm2_Points (1).csv\")"
   ]
  },
  {
   "cell_type": "code",
   "execution_count": 190,
   "metadata": {},
   "outputs": [
    {
     "data": {
      "text/html": [
       "<div>\n",
       "<style>\n",
       "    .dataframe thead tr:only-child th {\n",
       "        text-align: right;\n",
       "    }\n",
       "\n",
       "    .dataframe thead th {\n",
       "        text-align: left;\n",
       "    }\n",
       "\n",
       "    .dataframe tbody tr th {\n",
       "        vertical-align: top;\n",
       "    }\n",
       "</style>\n",
       "<table border=\"1\" class=\"dataframe\">\n",
       "  <thead>\n",
       "    <tr style=\"text-align: right;\">\n",
       "      <th></th>\n",
       "      <th>Ind_adm2_ID</th>\n",
       "      <th>sub_polygon_id</th>\n",
       "      <th>point_order</th>\n",
       "      <th>Latitude</th>\n",
       "      <th>Longitude</th>\n",
       "      <th>Country</th>\n",
       "      <th>State</th>\n",
       "      <th>District</th>\n",
       "    </tr>\n",
       "  </thead>\n",
       "  <tbody>\n",
       "    <tr>\n",
       "      <th>0</th>\n",
       "      <td>0</td>\n",
       "      <td>1</td>\n",
       "      <td>1</td>\n",
       "      <td>10.8976</td>\n",
       "      <td>92.5158</td>\n",
       "      <td>India</td>\n",
       "      <td>Andaman and Nicobar</td>\n",
       "      <td>Andaman Islands</td>\n",
       "    </tr>\n",
       "    <tr>\n",
       "      <th>1</th>\n",
       "      <td>0</td>\n",
       "      <td>1</td>\n",
       "      <td>2</td>\n",
       "      <td>10.8975</td>\n",
       "      <td>92.5161</td>\n",
       "      <td>India</td>\n",
       "      <td>Andaman and Nicobar</td>\n",
       "      <td>Andaman Islands</td>\n",
       "    </tr>\n",
       "    <tr>\n",
       "      <th>2</th>\n",
       "      <td>0</td>\n",
       "      <td>1</td>\n",
       "      <td>3</td>\n",
       "      <td>10.8975</td>\n",
       "      <td>92.5164</td>\n",
       "      <td>India</td>\n",
       "      <td>Andaman and Nicobar</td>\n",
       "      <td>Andaman Islands</td>\n",
       "    </tr>\n",
       "    <tr>\n",
       "      <th>3</th>\n",
       "      <td>0</td>\n",
       "      <td>1</td>\n",
       "      <td>4</td>\n",
       "      <td>10.8972</td>\n",
       "      <td>92.5167</td>\n",
       "      <td>India</td>\n",
       "      <td>Andaman and Nicobar</td>\n",
       "      <td>Andaman Islands</td>\n",
       "    </tr>\n",
       "    <tr>\n",
       "      <th>4</th>\n",
       "      <td>0</td>\n",
       "      <td>1</td>\n",
       "      <td>5</td>\n",
       "      <td>10.8972</td>\n",
       "      <td>92.5203</td>\n",
       "      <td>India</td>\n",
       "      <td>Andaman and Nicobar</td>\n",
       "      <td>Andaman Islands</td>\n",
       "    </tr>\n",
       "  </tbody>\n",
       "</table>\n",
       "</div>"
      ],
      "text/plain": [
       "   Ind_adm2_ID  sub_polygon_id  point_order  Latitude  Longitude Country  \\\n",
       "0            0               1            1   10.8976    92.5158   India   \n",
       "1            0               1            2   10.8975    92.5161   India   \n",
       "2            0               1            3   10.8975    92.5164   India   \n",
       "3            0               1            4   10.8972    92.5167   India   \n",
       "4            0               1            5   10.8972    92.5203   India   \n",
       "\n",
       "                 State         District  \n",
       "0  Andaman and Nicobar  Andaman Islands  \n",
       "1  Andaman and Nicobar  Andaman Islands  \n",
       "2  Andaman and Nicobar  Andaman Islands  \n",
       "3  Andaman and Nicobar  Andaman Islands  \n",
       "4  Andaman and Nicobar  Andaman Islands  "
      ]
     },
     "execution_count": 190,
     "metadata": {},
     "output_type": "execute_result"
    }
   ],
   "source": [
    "df.head()"
   ]
  },
  {
   "cell_type": "code",
   "execution_count": 122,
   "metadata": {
    "collapsed": true
   },
   "outputs": [],
   "source": [
    "district = \"\"\n",
    "geoList = []\n",
    "result_df = pd.DataFrame(data=None,columns=['State','District','Latitude','Longitude'])\n",
    "\n",
    "for index, row in df.iterrows():\n",
    "    # check if this is anew district value\n",
    "    if district and (district!=df.iloc[index]['District']):\n",
    "        # calculate centroid for previous district\n",
    "        points = MultiPoint(geoList)\n",
    "        # save the state, district, long-lat and centroid to new dataframe\n",
    "        result_df = result_df.append({'State':df['State'].iloc[index-1],'District':df['District'].iloc[index-1],'Latitude':points.centroid.x,'Longitude':points.centroid.y}, ignore_index=True)\n",
    "        # clear old geoList (APPEND NEW LONG-LAT ALSO)\n",
    "        del geoList[:]\n",
    "    # save this new district's name\n",
    "    district = df.iloc[index]['District']\n",
    "    # add this long lat info to later calculate centroid\n",
    "    geoList.append((df.iloc[index]['Latitude'],df.iloc[index]['Longitude']))\n",
    "\n",
    "# add last district's centroid\n",
    "if geoList:\n",
    "    points = MultiPoint(geoList)\n",
    "    result_df = result_df.append({'State':df['State'].iloc[-1],'District':df['District'].iloc[-1],'Latitude':points.centroid.x,'Longitude':points.centroid.y}, ignore_index=True)\n",
    "    del geoList[:]"
   ]
  },
  {
   "cell_type": "code",
   "execution_count": 124,
   "metadata": {},
   "outputs": [
    {
     "data": {
      "text/html": [
       "<div>\n",
       "<style>\n",
       "    .dataframe thead tr:only-child th {\n",
       "        text-align: right;\n",
       "    }\n",
       "\n",
       "    .dataframe thead th {\n",
       "        text-align: left;\n",
       "    }\n",
       "\n",
       "    .dataframe tbody tr th {\n",
       "        vertical-align: top;\n",
       "    }\n",
       "</style>\n",
       "<table border=\"1\" class=\"dataframe\">\n",
       "  <thead>\n",
       "    <tr style=\"text-align: right;\">\n",
       "      <th></th>\n",
       "      <th>State</th>\n",
       "      <th>District</th>\n",
       "      <th>Latitude</th>\n",
       "      <th>Longitude</th>\n",
       "    </tr>\n",
       "  </thead>\n",
       "  <tbody>\n",
       "    <tr>\n",
       "      <th>0</th>\n",
       "      <td>Andaman and Nicobar</td>\n",
       "      <td>Andaman Islands</td>\n",
       "      <td>12.382571</td>\n",
       "      <td>92.822911</td>\n",
       "    </tr>\n",
       "    <tr>\n",
       "      <th>1</th>\n",
       "      <td>Andaman and Nicobar</td>\n",
       "      <td>Nicobar Islands</td>\n",
       "      <td>7.835291</td>\n",
       "      <td>93.511601</td>\n",
       "    </tr>\n",
       "    <tr>\n",
       "      <th>2</th>\n",
       "      <td>Andhra Pradesh</td>\n",
       "      <td>Adilabad</td>\n",
       "      <td>19.284514</td>\n",
       "      <td>78.813212</td>\n",
       "    </tr>\n",
       "    <tr>\n",
       "      <th>3</th>\n",
       "      <td>Andhra Pradesh</td>\n",
       "      <td>Anantapur</td>\n",
       "      <td>14.312066</td>\n",
       "      <td>77.460158</td>\n",
       "    </tr>\n",
       "    <tr>\n",
       "      <th>4</th>\n",
       "      <td>Andhra Pradesh</td>\n",
       "      <td>Chittoor</td>\n",
       "      <td>13.331093</td>\n",
       "      <td>78.927639</td>\n",
       "    </tr>\n",
       "  </tbody>\n",
       "</table>\n",
       "</div>"
      ],
      "text/plain": [
       "                 State         District   Latitude  Longitude\n",
       "0  Andaman and Nicobar  Andaman Islands  12.382571  92.822911\n",
       "1  Andaman and Nicobar  Nicobar Islands   7.835291  93.511601\n",
       "2       Andhra Pradesh         Adilabad  19.284514  78.813212\n",
       "3       Andhra Pradesh        Anantapur  14.312066  77.460158\n",
       "4       Andhra Pradesh         Chittoor  13.331093  78.927639"
      ]
     },
     "execution_count": 124,
     "metadata": {},
     "output_type": "execute_result"
    }
   ],
   "source": [
    "result_df.head()"
   ]
  },
  {
   "cell_type": "code",
   "execution_count": 129,
   "metadata": {
    "collapsed": true
   },
   "outputs": [],
   "source": [
    "result_df.to_csv(\"centroids.csv\",index=False)"
   ]
  },
  {
   "cell_type": "code",
   "execution_count": null,
   "metadata": {
    "collapsed": true
   },
   "outputs": [],
   "source": [
    "from bs4 import BeautifulSoup as bs\n",
    "import requests"
   ]
  },
  {
   "cell_type": "code",
   "execution_count": 7,
   "metadata": {
    "collapsed": true
   },
   "outputs": [],
   "source": [
    "res=requests.get('http://www.citypopulation.de/India.html')"
   ]
  },
  {
   "cell_type": "code",
   "execution_count": 9,
   "metadata": {},
   "outputs": [],
   "source": [
    "soup= bs(res.text,'lxml')"
   ]
  },
  {
   "cell_type": "code",
   "execution_count": 50,
   "metadata": {},
   "outputs": [],
   "source": [
    "allLinks = soup.select('ul li a')"
   ]
  },
  {
   "cell_type": "code",
   "execution_count": 52,
   "metadata": {},
   "outputs": [],
   "source": [
    "allLinks = allLinks[int(len(allLinks)/2):]"
   ]
  },
  {
   "cell_type": "code",
   "execution_count": 60,
   "metadata": {},
   "outputs": [],
   "source": [
    "state = []\n",
    "links = []\n",
    "for item in allLinks:\n",
    "    state.append(item.text)\n",
    "    links.append(\"http://www.citypopulation.de/\"+item.attrs['href'])"
   ]
  },
  {
   "cell_type": "code",
   "execution_count": 70,
   "metadata": {},
   "outputs": [],
   "source": [
    "population_df = pd.DataFrame(data=None,columns=['State','District','Population in 2001','Population in 2011'])\n",
    "for idx, link in enumerate(links):\n",
    "    temp_df = pd.read_html(link)[0]\n",
    "    for index, row in temp_df.iterrows():\n",
    "        if temp_df['Status'].iloc[index] == 'District':\n",
    "            population_df = population_df.append({'State':state[idx],'District':temp_df['Name'].iloc[index],'Population in 2001':temp_df['PopulationCensus2001-03-01'].iloc[index],'Population in 2011':temp_df['PopulationCensus2011-03-01'].iloc[index]}, ignore_index=True)"
   ]
  },
  {
   "cell_type": "code",
   "execution_count": 73,
   "metadata": {},
   "outputs": [],
   "source": [
    "population_df.to_csv(\"population.csv\",index=False)"
   ]
  },
  {
   "cell_type": "code",
   "execution_count": 192,
   "metadata": {},
   "outputs": [
    {
     "data": {
      "text/html": [
       "<div>\n",
       "<style>\n",
       "    .dataframe thead tr:only-child th {\n",
       "        text-align: right;\n",
       "    }\n",
       "\n",
       "    .dataframe thead th {\n",
       "        text-align: left;\n",
       "    }\n",
       "\n",
       "    .dataframe tbody tr th {\n",
       "        vertical-align: top;\n",
       "    }\n",
       "</style>\n",
       "<table border=\"1\" class=\"dataframe\">\n",
       "  <thead>\n",
       "    <tr style=\"text-align: right;\">\n",
       "      <th></th>\n",
       "      <th>State</th>\n",
       "      <th>District</th>\n",
       "      <th>Population in 2001</th>\n",
       "      <th>Population in 2011</th>\n",
       "    </tr>\n",
       "  </thead>\n",
       "  <tbody>\n",
       "    <tr>\n",
       "      <th>0</th>\n",
       "      <td>Andaman &amp; Nicobar Islands</td>\n",
       "      <td>Nicobar</td>\n",
       "      <td>42068</td>\n",
       "      <td>36842</td>\n",
       "    </tr>\n",
       "    <tr>\n",
       "      <th>1</th>\n",
       "      <td>Andaman &amp; Nicobar Islands</td>\n",
       "      <td>North &amp; Middle Andaman</td>\n",
       "      <td>105613</td>\n",
       "      <td>105597</td>\n",
       "    </tr>\n",
       "    <tr>\n",
       "      <th>2</th>\n",
       "      <td>Andaman &amp; Nicobar Islands</td>\n",
       "      <td>South Andaman</td>\n",
       "      <td>208471</td>\n",
       "      <td>238142</td>\n",
       "    </tr>\n",
       "    <tr>\n",
       "      <th>3</th>\n",
       "      <td>Andhra Pradesh</td>\n",
       "      <td>Anantapur</td>\n",
       "      <td>3640478</td>\n",
       "      <td>4081148</td>\n",
       "    </tr>\n",
       "    <tr>\n",
       "      <th>4</th>\n",
       "      <td>Andhra Pradesh</td>\n",
       "      <td>Chittoor</td>\n",
       "      <td>3745875</td>\n",
       "      <td>4174064</td>\n",
       "    </tr>\n",
       "  </tbody>\n",
       "</table>\n",
       "</div>"
      ],
      "text/plain": [
       "                       State                District Population in 2001  \\\n",
       "0  Andaman & Nicobar Islands                 Nicobar              42068   \n",
       "1  Andaman & Nicobar Islands  North & Middle Andaman             105613   \n",
       "2  Andaman & Nicobar Islands           South Andaman             208471   \n",
       "3             Andhra Pradesh               Anantapur            3640478   \n",
       "4             Andhra Pradesh                Chittoor            3745875   \n",
       "\n",
       "  Population in 2011  \n",
       "0              36842  \n",
       "1             105597  \n",
       "2             238142  \n",
       "3            4081148  \n",
       "4            4174064  "
      ]
     },
     "execution_count": 192,
     "metadata": {},
     "output_type": "execute_result"
    }
   ],
   "source": [
    "population_df.head()"
   ]
  },
  {
   "cell_type": "code",
   "execution_count": 84,
   "metadata": {},
   "outputs": [],
   "source": [
    "merged_df = pd.merge(df,population_df,on=['District','State'],how='left')"
   ]
  },
  {
   "cell_type": "code",
   "execution_count": 86,
   "metadata": {},
   "outputs": [],
   "source": [
    "merged_df.to_csv('merged_withNA.csv',index=False)"
   ]
  },
  {
   "cell_type": "code",
   "execution_count": 87,
   "metadata": {},
   "outputs": [],
   "source": [
    "merged_df.dropna(axis=0,how='any').to_csv('merged_withoutNA.csv',index=False)"
   ]
  },
  {
   "cell_type": "code",
   "execution_count": 168,
   "metadata": {},
   "outputs": [],
   "source": [
    "input_df = pd.read_csv(r\"C:\\Users\\samsu\\Desktop\\delete\\merged_withoutNA.csv\")"
   ]
  },
  {
   "cell_type": "code",
   "execution_count": 169,
   "metadata": {},
   "outputs": [
    {
     "data": {
      "text/html": [
       "<div>\n",
       "<style>\n",
       "    .dataframe thead tr:only-child th {\n",
       "        text-align: right;\n",
       "    }\n",
       "\n",
       "    .dataframe thead th {\n",
       "        text-align: left;\n",
       "    }\n",
       "\n",
       "    .dataframe tbody tr th {\n",
       "        vertical-align: top;\n",
       "    }\n",
       "</style>\n",
       "<table border=\"1\" class=\"dataframe\">\n",
       "  <thead>\n",
       "    <tr style=\"text-align: right;\">\n",
       "      <th></th>\n",
       "      <th>State</th>\n",
       "      <th>District</th>\n",
       "      <th>Latitude</th>\n",
       "      <th>Longitude</th>\n",
       "      <th>Population in 2001</th>\n",
       "      <th>Population in 2011</th>\n",
       "    </tr>\n",
       "  </thead>\n",
       "  <tbody>\n",
       "    <tr>\n",
       "      <th>0</th>\n",
       "      <td>Andaman and Nicobar</td>\n",
       "      <td>Andaman Islands</td>\n",
       "      <td>12.382571</td>\n",
       "      <td>92.822911</td>\n",
       "      <td>314084</td>\n",
       "      <td>343739</td>\n",
       "    </tr>\n",
       "    <tr>\n",
       "      <th>1</th>\n",
       "      <td>Andaman and Nicobar</td>\n",
       "      <td>Nicobar Islands</td>\n",
       "      <td>7.835291</td>\n",
       "      <td>93.511601</td>\n",
       "      <td>42068</td>\n",
       "      <td>36842</td>\n",
       "    </tr>\n",
       "    <tr>\n",
       "      <th>2</th>\n",
       "      <td>Andhra Pradesh</td>\n",
       "      <td>Anantapur</td>\n",
       "      <td>14.312066</td>\n",
       "      <td>77.460158</td>\n",
       "      <td>3640478</td>\n",
       "      <td>4081148</td>\n",
       "    </tr>\n",
       "    <tr>\n",
       "      <th>3</th>\n",
       "      <td>Andhra Pradesh</td>\n",
       "      <td>Chittoor</td>\n",
       "      <td>13.331093</td>\n",
       "      <td>78.927639</td>\n",
       "      <td>3745875</td>\n",
       "      <td>4174064</td>\n",
       "    </tr>\n",
       "    <tr>\n",
       "      <th>4</th>\n",
       "      <td>Andhra Pradesh</td>\n",
       "      <td>Cuddapah</td>\n",
       "      <td>14.490289</td>\n",
       "      <td>78.696139</td>\n",
       "      <td>2601797</td>\n",
       "      <td>2882469</td>\n",
       "    </tr>\n",
       "  </tbody>\n",
       "</table>\n",
       "</div>"
      ],
      "text/plain": [
       "                 State         District   Latitude  Longitude  \\\n",
       "0  Andaman and Nicobar  Andaman Islands  12.382571  92.822911   \n",
       "1  Andaman and Nicobar  Nicobar Islands   7.835291  93.511601   \n",
       "2       Andhra Pradesh        Anantapur  14.312066  77.460158   \n",
       "3       Andhra Pradesh         Chittoor  13.331093  78.927639   \n",
       "4       Andhra Pradesh         Cuddapah  14.490289  78.696139   \n",
       "\n",
       "   Population in 2001  Population in 2011  \n",
       "0              314084              343739  \n",
       "1               42068               36842  \n",
       "2             3640478             4081148  \n",
       "3             3745875             4174064  \n",
       "4             2601797             2882469  "
      ]
     },
     "execution_count": 169,
     "metadata": {},
     "output_type": "execute_result"
    }
   ],
   "source": [
    "input_df.head()"
   ]
  },
  {
   "cell_type": "code",
   "execution_count": 176,
   "metadata": {},
   "outputs": [],
   "source": [
    "state = \"\"\n",
    "weights = []\n",
    "x_numerator = []\n",
    "y_numerator = []\n",
    "results = pd.DataFrame(data=None,columns=['State','Longitude','Latitude'])\n",
    "\n",
    "for index,x in input_df.iterrows():\n",
    "    if state and (state!=input_df.iloc[index]['State']):\n",
    "        #calculate weighted mean for the last state\n",
    "        longitude = sum(x_numerator)/sum(weights)\n",
    "        latitude = sum(y_numerator)/sum(weights)\n",
    "        #empty lists\n",
    "        del x_numerator[:]\n",
    "        del y_numerator[:]\n",
    "        del weights[:]\n",
    "        #store to results dataframe\n",
    "        results = results.append({'State':state,'Longitude':longitude,'Latitude':latitude}, ignore_index=True)\n",
    "    state = input_df.iloc[index]['State']\n",
    "    weights.append(float(input_df.iloc[index]['Population in 2001']))\n",
    "    x_numerator.append(float(input_df.iloc[index]['Longitude'])*float(input_df.iloc[index]['Population in 2001']))\n",
    "    y_numerator.append(float(input_df.iloc[index]['Latitude'])*float(input_df.iloc[index]['Population in 2001']))\n",
    "if weights:\n",
    "    longitude = sum(x_numerator)/sum(weights)\n",
    "    latitude = sum(y_numerator)/sum(weights)\n",
    "    del x_numerator[:]\n",
    "    del y_numerator[:]\n",
    "    del weights[:]\n",
    "    results = results.append({'State':state,'Longitude':longitude,'Latitude':latitude}, ignore_index=True)"
   ]
  },
  {
   "cell_type": "code",
   "execution_count": 177,
   "metadata": {},
   "outputs": [],
   "source": [
    "results.to_csv(r'C:\\Users\\samsu\\Desktop\\delete\\results_2001.csv',index=False)"
   ]
  },
  {
   "cell_type": "code",
   "execution_count": 178,
   "metadata": {
    "collapsed": true
   },
   "outputs": [],
   "source": [
    "state = \"\"\n",
    "weights = []\n",
    "x_numerator = []\n",
    "y_numerator = []\n",
    "results = pd.DataFrame(data=None,columns=['State','Longitude','Latitude'])\n",
    "\n",
    "for index,x in input_df.iterrows():\n",
    "    if state and (state!=input_df.iloc[index]['State']):\n",
    "        #calculate weighted mean for the last state\n",
    "        longitude = sum(x_numerator)/sum(weights)\n",
    "        latitude = sum(y_numerator)/sum(weights)\n",
    "        #empty lists\n",
    "        del x_numerator[:]\n",
    "        del y_numerator[:]\n",
    "        del weights[:]\n",
    "        #store to results dataframe\n",
    "        results = results.append({'State':state,'Longitude':longitude,'Latitude':latitude}, ignore_index=True)\n",
    "    state = input_df.iloc[index]['State']\n",
    "    weights.append(float(input_df.iloc[index]['Population in 2011']))\n",
    "    x_numerator.append(float(input_df.iloc[index]['Longitude'])*float(input_df.iloc[index]['Population in 2011']))\n",
    "    y_numerator.append(float(input_df.iloc[index]['Latitude'])*float(input_df.iloc[index]['Population in 2011']))\n",
    "if weights:\n",
    "    longitude = sum(x_numerator)/sum(weights)\n",
    "    latitude = sum(y_numerator)/sum(weights)\n",
    "    del x_numerator[:]\n",
    "    del y_numerator[:]\n",
    "    del weights[:]\n",
    "    results = results.append({'State':state,'Longitude':longitude,'Latitude':latitude}, ignore_index=True)"
   ]
  },
  {
   "cell_type": "code",
   "execution_count": 179,
   "metadata": {
    "collapsed": true
   },
   "outputs": [],
   "source": [
    "results.to_csv(r'C:\\Users\\samsu\\Desktop\\delete\\results_2011.csv',index=False)"
   ]
  }
 ],
 "metadata": {
  "kernelspec": {
   "display_name": "Python 3",
   "language": "python",
   "name": "python3"
  },
  "language_info": {
   "codemirror_mode": {
    "name": "ipython",
    "version": 3
   },
   "file_extension": ".py",
   "mimetype": "text/x-python",
   "name": "python",
   "nbconvert_exporter": "python",
   "pygments_lexer": "ipython3",
   "version": "3.6.3"
  }
 },
 "nbformat": 4,
 "nbformat_minor": 2
}
